{
 "cells": [
  {
   "cell_type": "code",
   "execution_count": 1,
   "id": "b7f7cc8b",
   "metadata": {},
   "outputs": [],
   "source": [
    "import requests\n",
    "from bs4 import BeautifulSoup"
   ]
  },
  {
   "cell_type": "code",
   "execution_count": 47,
   "id": "16faa3a7",
   "metadata": {},
   "outputs": [],
   "source": [
    "req=requests.get(\"https://www.acemicromatic.net/product_cat/milling/\")"
   ]
  },
  {
   "cell_type": "code",
   "execution_count": 48,
   "id": "ce81f738",
   "metadata": {},
   "outputs": [],
   "source": [
    "soup=BeautifulSoup(req.content)"
   ]
  },
  {
   "cell_type": "code",
   "execution_count": 49,
   "id": "4d99b84f",
   "metadata": {},
   "outputs": [
    {
     "data": {
      "text/plain": [
       "<Response [403]>"
      ]
     },
     "execution_count": 49,
     "metadata": {},
     "output_type": "execute_result"
    }
   ],
   "source": [
    "req"
   ]
  },
  {
   "cell_type": "code",
   "execution_count": 26,
   "id": "abde8afd",
   "metadata": {},
   "outputs": [
    {
     "name": "stdout",
     "output_type": "stream",
     "text": [
      "Requirement already satisfied: cloudscraper in c:\\users\\hp\\anaconda3\\lib\\site-packages (1.2.71)\n",
      "Requirement already satisfied: requests-toolbelt>=0.9.1 in c:\\users\\hp\\anaconda3\\lib\\site-packages (from cloudscraper) (1.0.0)\n",
      "Requirement already satisfied: requests>=2.9.2 in c:\\users\\hp\\anaconda3\\lib\\site-packages (from cloudscraper) (2.28.1)\n",
      "Requirement already satisfied: pyparsing>=2.4.7 in c:\\users\\hp\\anaconda3\\lib\\site-packages (from cloudscraper) (3.0.9)\n",
      "Requirement already satisfied: certifi>=2017.4.17 in c:\\users\\hp\\anaconda3\\lib\\site-packages (from requests>=2.9.2->cloudscraper) (2022.9.14)\n",
      "Requirement already satisfied: idna<4,>=2.5 in c:\\users\\hp\\anaconda3\\lib\\site-packages (from requests>=2.9.2->cloudscraper) (3.3)\n",
      "Requirement already satisfied: charset-normalizer<3,>=2 in c:\\users\\hp\\anaconda3\\lib\\site-packages (from requests>=2.9.2->cloudscraper) (2.0.4)\n",
      "Requirement already satisfied: urllib3<1.27,>=1.21.1 in c:\\users\\hp\\anaconda3\\lib\\site-packages (from requests>=2.9.2->cloudscraper) (1.26.11)\n",
      "Note: you may need to restart the kernel to use updated packages.\n"
     ]
    }
   ],
   "source": [
    "pip install cloudscraper"
   ]
  },
  {
   "cell_type": "code",
   "execution_count": 27,
   "id": "6e72477d",
   "metadata": {},
   "outputs": [],
   "source": [
    "import cloudscraper"
   ]
  },
  {
   "cell_type": "code",
   "execution_count": 50,
   "id": "80cafc3e",
   "metadata": {},
   "outputs": [],
   "source": [
    "url=\"https://www.acemicromatic.net/product_cat/small/\""
   ]
  },
  {
   "cell_type": "code",
   "execution_count": 51,
   "id": "867b7bdc",
   "metadata": {},
   "outputs": [],
   "source": [
    "scraper=cloudscraper.create_scraper()"
   ]
  },
  {
   "cell_type": "code",
   "execution_count": 52,
   "id": "f19084bf",
   "metadata": {},
   "outputs": [],
   "source": [
    "res=scraper.get(url)"
   ]
  },
  {
   "cell_type": "code",
   "execution_count": 53,
   "id": "d3ce1ccc",
   "metadata": {},
   "outputs": [
    {
     "name": "stdout",
     "output_type": "stream",
     "text": [
      "200\n"
     ]
    }
   ],
   "source": [
    "print(res.status_code)"
   ]
  },
  {
   "cell_type": "code",
   "execution_count": 54,
   "id": "222864e0",
   "metadata": {},
   "outputs": [],
   "source": [
    "soup=BeautifulSoup(res.content)"
   ]
  },
  {
   "cell_type": "code",
   "execution_count": 55,
   "id": "0f7c332a",
   "metadata": {},
   "outputs": [
    {
     "data": {
      "text/plain": [
       "['Small', '430', 'MCV-300', 'MCV-350', 'SUPER']"
      ]
     },
     "execution_count": 55,
     "metadata": {},
     "output_type": "execute_result"
    }
   ],
   "source": [
    "model= []\n",
    "\n",
    "for i in soup.find_all('div',class_=\"content\"):\n",
    "    model.append(i.text.split()[0])\n",
    "model"
   ]
  },
  {
   "cell_type": "code",
   "execution_count": 56,
   "id": "9c10848b",
   "metadata": {},
   "outputs": [],
   "source": [
    "url=\"https://www.acemicromatic.net/product_cat/medium/\""
   ]
  },
  {
   "cell_type": "code",
   "execution_count": 57,
   "id": "deef7aa3",
   "metadata": {},
   "outputs": [
    {
     "data": {
      "text/plain": [
       "['Medium',\n",
       " 'MCV-400',\n",
       " 'MCV-400F',\n",
       " 'MCV-400',\n",
       " 'MCV-450',\n",
       " 'MCV-450',\n",
       " 'ACER',\n",
       " 'ACER']"
      ]
     },
     "execution_count": 57,
     "metadata": {},
     "output_type": "execute_result"
    }
   ],
   "source": [
    "scraper=cloudscraper.create_scraper()\n",
    "res=scraper.get(url)\n",
    "soup=BeautifulSoup(res.content)\n",
    "\n",
    "model_2= []\n",
    "\n",
    "for i in soup.find_all('div',class_=\"content\"):\n",
    "    model_2.append(i.text.split()[0])\n",
    "model_2"
   ]
  },
  {
   "cell_type": "code",
   "execution_count": 58,
   "id": "08471ab7",
   "metadata": {},
   "outputs": [
    {
     "data": {
      "text/plain": [
       "['Large', 'MCV-550L', 'MCV-650', 'MCV-700', 'MCV-700N', 'MCV-700N', 'MCV-800']"
      ]
     },
     "execution_count": 58,
     "metadata": {},
     "output_type": "execute_result"
    }
   ],
   "source": [
    "url=\"https://www.acemicromatic.net/product_cat/large/\"\n",
    "scraper=cloudscraper.create_scraper()\n",
    "res=scraper.get(url)\n",
    "soup=BeautifulSoup(res.content)\n",
    "\n",
    "model_3= []\n",
    "\n",
    "for i in soup.find_all('div',class_=\"content\"):\n",
    "    model_3.append(i.text.split()[0])\n",
    "model_3"
   ]
  },
  {
   "cell_type": "code",
   "execution_count": 59,
   "id": "f5be4514",
   "metadata": {},
   "outputs": [
    {
     "data": {
      "text/plain": [
       "['V',\n",
       " '540V',\n",
       " '730V',\n",
       " '740V',\n",
       " '740V',\n",
       " '850V',\n",
       " '1060V',\n",
       " '1260V',\n",
       " '1580V',\n",
       " '1690V']"
      ]
     },
     "execution_count": 59,
     "metadata": {},
     "output_type": "execute_result"
    }
   ],
   "source": [
    "url=\"https://www.acemicromatic.net/product_cat/v-series/\"\n",
    "scraper=cloudscraper.create_scraper()\n",
    "res=scraper.get(url)\n",
    "soup=BeautifulSoup(res.content)\n",
    "\n",
    "model_4= []\n",
    "\n",
    "for i in soup.find_all('div',class_=\"content\"):\n",
    "    model_4.append(i.text.split()[0])\n",
    "model_4"
   ]
  },
  {
   "cell_type": "code",
   "execution_count": 60,
   "id": "7a5fecfc",
   "metadata": {},
   "outputs": [
    {
     "data": {
      "text/plain": [
       "['Heavy',\n",
       " 'ACER-50',\n",
       " 'MCV-550L-50',\n",
       " 'MCV-650-50',\n",
       " 'MCV-700N-50',\n",
       " 'MCV-700N',\n",
       " 'MCV-700-50',\n",
       " 'MCV-800-50']"
      ]
     },
     "execution_count": 60,
     "metadata": {},
     "output_type": "execute_result"
    }
   ],
   "source": [
    "url=\"https://www.acemicromatic.net/product_cat/heavy-duty/\"\n",
    "scraper=cloudscraper.create_scraper()\n",
    "res=scraper.get(url)\n",
    "soup=BeautifulSoup(res.content)\n",
    "\n",
    "model_5= []\n",
    "\n",
    "for i in soup.find_all('div',class_=\"content\"):\n",
    "    model_5.append(i.text.split()[0])\n",
    "model_5"
   ]
  },
  {
   "cell_type": "code",
   "execution_count": 61,
   "id": "8a17606e",
   "metadata": {},
   "outputs": [],
   "source": [
    "l1=model[1:5]\n",
    "l2=model_2[1:8]\n",
    "l3=model_3[1:7]\n",
    "l4=model_4[1:11]\n",
    "l5=model_5[1:8]"
   ]
  },
  {
   "cell_type": "code",
   "execution_count": 66,
   "id": "a830767d",
   "metadata": {},
   "outputs": [
    {
     "data": {
      "text/plain": [
       "['430',\n",
       " 'MCV-300',\n",
       " 'MCV-350',\n",
       " 'SUPER',\n",
       " 'MCV-400',\n",
       " 'MCV-400F',\n",
       " 'MCV-400',\n",
       " 'MCV-450',\n",
       " 'MCV-450',\n",
       " 'ACER',\n",
       " 'ACER',\n",
       " 'MCV-550L',\n",
       " 'MCV-650',\n",
       " 'MCV-700',\n",
       " 'MCV-700N',\n",
       " 'MCV-700N',\n",
       " 'MCV-800',\n",
       " '540V',\n",
       " '730V',\n",
       " '740V',\n",
       " '740V',\n",
       " '850V',\n",
       " '1060V',\n",
       " '1260V',\n",
       " '1580V',\n",
       " '1690V',\n",
       " 'ACER-50',\n",
       " 'MCV-550L-50',\n",
       " 'MCV-650-50',\n",
       " 'MCV-700N-50',\n",
       " 'MCV-700N',\n",
       " 'MCV-700-50',\n",
       " 'MCV-800-50']"
      ]
     },
     "execution_count": 66,
     "metadata": {},
     "output_type": "execute_result"
    }
   ],
   "source": [
    "model_name=l1+l2+l3+l4+l5\n",
    "model_name"
   ]
  },
  {
   "cell_type": "code",
   "execution_count": 86,
   "id": "06e56852",
   "metadata": {},
   "outputs": [],
   "source": [
    "import pandas as pd\n",
    "import numpy as np\n",
    "df=pd.DataFrame({\"Model_name\": model_name})\n",
    "df=pd.DataFrame({\"param_1\": \"Milling\",\"param_2\": \"Vertical_Machining_Centers\", \"Model_name\": model_name})\n"
   ]
  },
  {
   "cell_type": "code",
   "execution_count": 87,
   "id": "54fd78e7",
   "metadata": {},
   "outputs": [
    {
     "data": {
      "text/html": [
       "<div>\n",
       "<style scoped>\n",
       "    .dataframe tbody tr th:only-of-type {\n",
       "        vertical-align: middle;\n",
       "    }\n",
       "\n",
       "    .dataframe tbody tr th {\n",
       "        vertical-align: top;\n",
       "    }\n",
       "\n",
       "    .dataframe thead th {\n",
       "        text-align: right;\n",
       "    }\n",
       "</style>\n",
       "<table border=\"1\" class=\"dataframe\">\n",
       "  <thead>\n",
       "    <tr style=\"text-align: right;\">\n",
       "      <th></th>\n",
       "      <th>param_1</th>\n",
       "      <th>param_2</th>\n",
       "      <th>Model_name</th>\n",
       "    </tr>\n",
       "  </thead>\n",
       "  <tbody>\n",
       "    <tr>\n",
       "      <th>0</th>\n",
       "      <td>Milling</td>\n",
       "      <td>Vertical_Machining_Centers</td>\n",
       "      <td>430</td>\n",
       "    </tr>\n",
       "    <tr>\n",
       "      <th>1</th>\n",
       "      <td>Milling</td>\n",
       "      <td>Vertical_Machining_Centers</td>\n",
       "      <td>MCV-300</td>\n",
       "    </tr>\n",
       "    <tr>\n",
       "      <th>2</th>\n",
       "      <td>Milling</td>\n",
       "      <td>Vertical_Machining_Centers</td>\n",
       "      <td>MCV-350</td>\n",
       "    </tr>\n",
       "    <tr>\n",
       "      <th>3</th>\n",
       "      <td>Milling</td>\n",
       "      <td>Vertical_Machining_Centers</td>\n",
       "      <td>SUPER</td>\n",
       "    </tr>\n",
       "    <tr>\n",
       "      <th>4</th>\n",
       "      <td>Milling</td>\n",
       "      <td>Vertical_Machining_Centers</td>\n",
       "      <td>MCV-400</td>\n",
       "    </tr>\n",
       "    <tr>\n",
       "      <th>5</th>\n",
       "      <td>Milling</td>\n",
       "      <td>Vertical_Machining_Centers</td>\n",
       "      <td>MCV-400F</td>\n",
       "    </tr>\n",
       "    <tr>\n",
       "      <th>6</th>\n",
       "      <td>Milling</td>\n",
       "      <td>Vertical_Machining_Centers</td>\n",
       "      <td>MCV-400</td>\n",
       "    </tr>\n",
       "    <tr>\n",
       "      <th>7</th>\n",
       "      <td>Milling</td>\n",
       "      <td>Vertical_Machining_Centers</td>\n",
       "      <td>MCV-450</td>\n",
       "    </tr>\n",
       "    <tr>\n",
       "      <th>8</th>\n",
       "      <td>Milling</td>\n",
       "      <td>Vertical_Machining_Centers</td>\n",
       "      <td>MCV-450</td>\n",
       "    </tr>\n",
       "    <tr>\n",
       "      <th>9</th>\n",
       "      <td>Milling</td>\n",
       "      <td>Vertical_Machining_Centers</td>\n",
       "      <td>ACER</td>\n",
       "    </tr>\n",
       "    <tr>\n",
       "      <th>10</th>\n",
       "      <td>Milling</td>\n",
       "      <td>Vertical_Machining_Centers</td>\n",
       "      <td>ACER</td>\n",
       "    </tr>\n",
       "    <tr>\n",
       "      <th>11</th>\n",
       "      <td>Milling</td>\n",
       "      <td>Vertical_Machining_Centers</td>\n",
       "      <td>MCV-550L</td>\n",
       "    </tr>\n",
       "    <tr>\n",
       "      <th>12</th>\n",
       "      <td>Milling</td>\n",
       "      <td>Vertical_Machining_Centers</td>\n",
       "      <td>MCV-650</td>\n",
       "    </tr>\n",
       "    <tr>\n",
       "      <th>13</th>\n",
       "      <td>Milling</td>\n",
       "      <td>Vertical_Machining_Centers</td>\n",
       "      <td>MCV-700</td>\n",
       "    </tr>\n",
       "    <tr>\n",
       "      <th>14</th>\n",
       "      <td>Milling</td>\n",
       "      <td>Vertical_Machining_Centers</td>\n",
       "      <td>MCV-700N</td>\n",
       "    </tr>\n",
       "    <tr>\n",
       "      <th>15</th>\n",
       "      <td>Milling</td>\n",
       "      <td>Vertical_Machining_Centers</td>\n",
       "      <td>MCV-700N</td>\n",
       "    </tr>\n",
       "    <tr>\n",
       "      <th>16</th>\n",
       "      <td>Milling</td>\n",
       "      <td>Vertical_Machining_Centers</td>\n",
       "      <td>MCV-800</td>\n",
       "    </tr>\n",
       "    <tr>\n",
       "      <th>17</th>\n",
       "      <td>Milling</td>\n",
       "      <td>Vertical_Machining_Centers</td>\n",
       "      <td>540V</td>\n",
       "    </tr>\n",
       "    <tr>\n",
       "      <th>18</th>\n",
       "      <td>Milling</td>\n",
       "      <td>Vertical_Machining_Centers</td>\n",
       "      <td>730V</td>\n",
       "    </tr>\n",
       "    <tr>\n",
       "      <th>19</th>\n",
       "      <td>Milling</td>\n",
       "      <td>Vertical_Machining_Centers</td>\n",
       "      <td>740V</td>\n",
       "    </tr>\n",
       "    <tr>\n",
       "      <th>20</th>\n",
       "      <td>Milling</td>\n",
       "      <td>Vertical_Machining_Centers</td>\n",
       "      <td>740V</td>\n",
       "    </tr>\n",
       "    <tr>\n",
       "      <th>21</th>\n",
       "      <td>Milling</td>\n",
       "      <td>Vertical_Machining_Centers</td>\n",
       "      <td>850V</td>\n",
       "    </tr>\n",
       "    <tr>\n",
       "      <th>22</th>\n",
       "      <td>Milling</td>\n",
       "      <td>Vertical_Machining_Centers</td>\n",
       "      <td>1060V</td>\n",
       "    </tr>\n",
       "    <tr>\n",
       "      <th>23</th>\n",
       "      <td>Milling</td>\n",
       "      <td>Vertical_Machining_Centers</td>\n",
       "      <td>1260V</td>\n",
       "    </tr>\n",
       "    <tr>\n",
       "      <th>24</th>\n",
       "      <td>Milling</td>\n",
       "      <td>Vertical_Machining_Centers</td>\n",
       "      <td>1580V</td>\n",
       "    </tr>\n",
       "    <tr>\n",
       "      <th>25</th>\n",
       "      <td>Milling</td>\n",
       "      <td>Vertical_Machining_Centers</td>\n",
       "      <td>1690V</td>\n",
       "    </tr>\n",
       "    <tr>\n",
       "      <th>26</th>\n",
       "      <td>Milling</td>\n",
       "      <td>Vertical_Machining_Centers</td>\n",
       "      <td>ACER-50</td>\n",
       "    </tr>\n",
       "    <tr>\n",
       "      <th>27</th>\n",
       "      <td>Milling</td>\n",
       "      <td>Vertical_Machining_Centers</td>\n",
       "      <td>MCV-550L-50</td>\n",
       "    </tr>\n",
       "    <tr>\n",
       "      <th>28</th>\n",
       "      <td>Milling</td>\n",
       "      <td>Vertical_Machining_Centers</td>\n",
       "      <td>MCV-650-50</td>\n",
       "    </tr>\n",
       "    <tr>\n",
       "      <th>29</th>\n",
       "      <td>Milling</td>\n",
       "      <td>Vertical_Machining_Centers</td>\n",
       "      <td>MCV-700N-50</td>\n",
       "    </tr>\n",
       "    <tr>\n",
       "      <th>30</th>\n",
       "      <td>Milling</td>\n",
       "      <td>Vertical_Machining_Centers</td>\n",
       "      <td>MCV-700N</td>\n",
       "    </tr>\n",
       "    <tr>\n",
       "      <th>31</th>\n",
       "      <td>Milling</td>\n",
       "      <td>Vertical_Machining_Centers</td>\n",
       "      <td>MCV-700-50</td>\n",
       "    </tr>\n",
       "    <tr>\n",
       "      <th>32</th>\n",
       "      <td>Milling</td>\n",
       "      <td>Vertical_Machining_Centers</td>\n",
       "      <td>MCV-800-50</td>\n",
       "    </tr>\n",
       "  </tbody>\n",
       "</table>\n",
       "</div>"
      ],
      "text/plain": [
       "    param_1                     param_2   Model_name\n",
       "0   Milling  Vertical_Machining_Centers          430\n",
       "1   Milling  Vertical_Machining_Centers      MCV-300\n",
       "2   Milling  Vertical_Machining_Centers      MCV-350\n",
       "3   Milling  Vertical_Machining_Centers        SUPER\n",
       "4   Milling  Vertical_Machining_Centers      MCV-400\n",
       "5   Milling  Vertical_Machining_Centers     MCV-400F\n",
       "6   Milling  Vertical_Machining_Centers      MCV-400\n",
       "7   Milling  Vertical_Machining_Centers      MCV-450\n",
       "8   Milling  Vertical_Machining_Centers      MCV-450\n",
       "9   Milling  Vertical_Machining_Centers         ACER\n",
       "10  Milling  Vertical_Machining_Centers         ACER\n",
       "11  Milling  Vertical_Machining_Centers     MCV-550L\n",
       "12  Milling  Vertical_Machining_Centers      MCV-650\n",
       "13  Milling  Vertical_Machining_Centers      MCV-700\n",
       "14  Milling  Vertical_Machining_Centers     MCV-700N\n",
       "15  Milling  Vertical_Machining_Centers     MCV-700N\n",
       "16  Milling  Vertical_Machining_Centers      MCV-800\n",
       "17  Milling  Vertical_Machining_Centers         540V\n",
       "18  Milling  Vertical_Machining_Centers         730V\n",
       "19  Milling  Vertical_Machining_Centers         740V\n",
       "20  Milling  Vertical_Machining_Centers         740V\n",
       "21  Milling  Vertical_Machining_Centers         850V\n",
       "22  Milling  Vertical_Machining_Centers        1060V\n",
       "23  Milling  Vertical_Machining_Centers        1260V\n",
       "24  Milling  Vertical_Machining_Centers        1580V\n",
       "25  Milling  Vertical_Machining_Centers        1690V\n",
       "26  Milling  Vertical_Machining_Centers      ACER-50\n",
       "27  Milling  Vertical_Machining_Centers  MCV-550L-50\n",
       "28  Milling  Vertical_Machining_Centers   MCV-650-50\n",
       "29  Milling  Vertical_Machining_Centers  MCV-700N-50\n",
       "30  Milling  Vertical_Machining_Centers     MCV-700N\n",
       "31  Milling  Vertical_Machining_Centers   MCV-700-50\n",
       "32  Milling  Vertical_Machining_Centers   MCV-800-50"
      ]
     },
     "execution_count": 87,
     "metadata": {},
     "output_type": "execute_result"
    }
   ],
   "source": [
    "df"
   ]
  },
  {
   "cell_type": "code",
   "execution_count": null,
   "id": "991c8b77",
   "metadata": {},
   "outputs": [],
   "source": [
    "# similary we may scrap the rest of teh data and add it as a column in the given dataframe. "
   ]
  },
  {
   "cell_type": "code",
   "execution_count": null,
   "id": "cab546bc",
   "metadata": {},
   "outputs": [],
   "source": []
  }
 ],
 "metadata": {
  "kernelspec": {
   "display_name": "Python 3 (ipykernel)",
   "language": "python",
   "name": "python3"
  },
  "language_info": {
   "codemirror_mode": {
    "name": "ipython",
    "version": 3
   },
   "file_extension": ".py",
   "mimetype": "text/x-python",
   "name": "python",
   "nbconvert_exporter": "python",
   "pygments_lexer": "ipython3",
   "version": "3.9.13"
  }
 },
 "nbformat": 4,
 "nbformat_minor": 5
}
